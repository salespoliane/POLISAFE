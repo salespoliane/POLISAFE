{
 "cells": [
  {
   "cell_type": "code",
   "execution_count": 9,
   "id": "d83043b0",
   "metadata": {},
   "outputs": [
    {
     "data": {
      "text/plain": [
       "610"
      ]
     },
     "execution_count": 9,
     "metadata": {},
     "output_type": "execute_result"
    }
   ],
   "source": [
    "10+20*30"
   ]
  },
  {
   "cell_type": "code",
   "execution_count": 10,
   "id": "4af56982",
   "metadata": {},
   "outputs": [
    {
     "data": {
      "text/plain": [
       "0.5333333333333333"
      ]
     },
     "execution_count": 10,
     "metadata": {},
     "output_type": "execute_result"
    }
   ],
   "source": [
    "(4**2/30)"
   ]
  },
  {
   "cell_type": "code",
   "execution_count": 11,
   "id": "486d9e83",
   "metadata": {},
   "outputs": [
    {
     "data": {
      "text/plain": [
       "575"
      ]
     },
     "execution_count": 11,
     "metadata": {},
     "output_type": "execute_result"
    }
   ],
   "source": [
    "(94+2)*6-1"
   ]
  },
  {
   "cell_type": "code",
   "execution_count": 12,
   "id": "82658062",
   "metadata": {},
   "outputs": [
    {
     "data": {
      "text/plain": [
       "107"
      ]
     },
     "execution_count": 12,
     "metadata": {},
     "output_type": "execute_result"
    }
   ],
   "source": [
    "((10+8)*(10-4))-1"
   ]
  },
  {
   "cell_type": "code",
   "execution_count": 13,
   "id": "c9477948",
   "metadata": {},
   "outputs": [
    {
     "data": {
      "text/plain": [
       "2980947985820.5586"
      ]
     },
     "execution_count": 13,
     "metadata": {},
     "output_type": "execute_result"
    }
   ],
   "source": [
    "((1500+(100-9/10))*9)**3"
   ]
  },
  {
   "cell_type": "code",
   "execution_count": 14,
   "id": "708210fb",
   "metadata": {},
   "outputs": [
    {
     "data": {
      "text/plain": [
       "81.0"
      ]
     },
     "execution_count": 14,
     "metadata": {},
     "output_type": "execute_result"
    }
   ],
   "source": [
    "10%3*10**2+1-10*4/2"
   ]
  },
  {
   "cell_type": "code",
   "execution_count": 15,
   "id": "2d88e656",
   "metadata": {},
   "outputs": [
    {
     "name": "stdout",
     "output_type": "stream",
     "text": [
      "POLIANE SALES GUERREIRO\n"
     ]
    }
   ],
   "source": [
    "#Faça um programa que exiba seu nome na tela\n",
    "nome=\"POLIANE SALES GUERREIRO\"\n",
    "print (nome)"
   ]
  },
  {
   "cell_type": "code",
   "execution_count": 16,
   "id": "a1aaceb8",
   "metadata": {},
   "outputs": [
    {
     "name": "stdout",
     "output_type": "stream",
     "text": [
      "90\n"
     ]
    }
   ],
   "source": [
    "#Escreva um programa que exiba o resultado de 2a × 3b, onde a vale\n",
    "#3 e b vale 5\n",
    "a=3\n",
    "b=5\n",
    "resultado=(2*a)*(3*b)\n",
    "print(resultado)\n"
   ]
  },
  {
   "cell_type": "code",
   "execution_count": null,
   "id": "03485377",
   "metadata": {},
   "outputs": [],
   "source": [
    "#Modifique o primeiro programa abaixo, \n",
    "#de forma a calcular a soma de três variáveis\n",
    "\n",
    "c=2 #(1)\n",
    "a=4 #(2)\n",
    "b=3 #(3)\n",
    "print (c + a + b)"
   ]
  },
  {
   "cell_type": "code",
   "execution_count": null,
   "id": "8ea65635",
   "metadata": {},
   "outputs": [],
   "source": [
    "#Modifique o programa abaixo, de forma que ele calcule um\n",
    "#aumento de 15% para um salário de R$ 750\n",
    "\n",
    "salario = 750 #(1)\n",
    "aumento = 5 #(2)\n",
    "print(salario + (salario * aumento / 100)) #3"
   ]
  },
  {
   "cell_type": "code",
   "execution_count": null,
   "id": "8cc4f37d",
   "metadata": {},
   "outputs": [],
   "source": [
    "#Faça um programa em linguagem Python que converta metros para\n",
    "#centímetros\n",
    "\n",
    "metro = 1\n",
    "centimetro = 0\n",
    "centimetro = metro * 100\n",
    "\n",
    "print (centimetro)"
   ]
  },
  {
   "cell_type": "code",
   "execution_count": 17,
   "id": "e7788dc1",
   "metadata": {},
   "outputs": [
    {
     "name": "stdout",
     "output_type": "stream",
     "text": [
      "1\n",
      "2\n",
      "3\n",
      "4\n",
      "5\n",
      "6\n",
      "7\n",
      "8\n",
      "9\n",
      "10\n"
     ]
    }
   ],
   "source": [
    "#Faça um programa em Python que leia um valor inteiro e mostre a tabuada de 1\n",
    "#a 10 do valor lido\n",
    "\n",
    "valorInteiro = 10\n",
    "tabuada = 1 #a 10\n",
    "\n",
    "for i in range(valorInteiro):\n",
    "    print (tabuada + i)\n",
    "\n",
    "\n"
   ]
  },
  {
   "cell_type": "code",
   "execution_count": 18,
   "id": "1bbb268d",
   "metadata": {},
   "outputs": [
    {
     "name": "stdout",
     "output_type": "stream",
     "text": [
      "digite a primeira nota:5\n",
      "digite a segunda nota:4\n",
      "4.5\n"
     ]
    }
   ],
   "source": [
    "#Faça um programa em linguagem Python que receba duas notas e calcule a \n",
    "#média aritmética e mostre o resultado\n",
    "\n",
    "x = int(input(\"digite a primeira nota:\"))\n",
    "y = int(input(\"digite a segunda nota:\"))\n",
    "print((x+y) /2)\n"
   ]
  },
  {
   "cell_type": "code",
   "execution_count": null,
   "id": "3eb397f3",
   "metadata": {},
   "outputs": [],
   "source": [
    "#Fazer um programa que ao receber o salário atual de um funcionário, calcule o \n",
    "#valor do novo salário reajustado de acordo com as 3 situações: salário reajustado em 15%, \n",
    "#salario reajustado em 10% e salário reajustado em 5%\n",
    "\n",
    "salario = float (input(\"informe o salario \"))\n",
    "print(salario + (salario * 15 / 100))\n",
    "print(salario + ( salario * 10 / 100))\n",
    "print(salario + (salario * 0.05))\n",
    "\n",
    "\n",
    "\n",
    "    \n",
    "\n"
   ]
  },
  {
   "cell_type": "code",
   "execution_count": 8,
   "id": "40377ead",
   "metadata": {},
   "outputs": [
    {
     "name": "stdout",
     "output_type": "stream",
     "text": [
      "digite o primeiro numero:1\n",
      "digite o segundo numero:2\n",
      "3\n"
     ]
    }
   ],
   "source": [
    "#Faça um programa que receba dois números e exiba o resultado da sua soma\n",
    "\n",
    "a = int(input(\"digite o primeiro numero:\"))\n",
    "x = int(input(\"digite o segundo numero:\"))\n",
    "print(a+x)\n",
    "\n",
    "\n"
   ]
  },
  {
   "cell_type": "code",
   "execution_count": null,
   "id": "ba614f6b",
   "metadata": {},
   "outputs": [],
   "source": [
    "#Faça um programa que receba dois números e ao final mostre a soma, \n",
    "#subtração, multiplicação e a divisão dos números lidos\n",
    "\n",
    "x = int(input(\"digite o primeiro numero:\"))\n",
    "y = int(input(\"digite o segundo numero:\"))\n",
    "print(x+y)\n",
    "print(x-y)\n",
    "print(x*y)\n",
    "print(x/y)\n",
    "        \n",
    "\n"
   ]
  },
  {
   "cell_type": "code",
   "execution_count": null,
   "id": "b89db290",
   "metadata": {},
   "outputs": [],
   "source": [
    "#Escrever um programa para determinar o consumo médio de um automóvel \n",
    "#sendo fornecida a distância total percorrida pelo automóvel e o total de combustível gasto\n",
    "\n",
    "distancia = float (input(\"distancia: \"))\n",
    "combustivelGasto = float (input(\"combustivel gasto: \"))\n",
    "\n",
    "\n",
    "consumoMedio = distancia / combustivelGasto\n",
    "\n",
    "\n",
    "print(\"Consumo médio: \",consumoMedio)\n",
    "\n",
    "\n"
   ]
  },
  {
   "cell_type": "code",
   "execution_count": null,
   "id": "7100668f",
   "metadata": {},
   "outputs": [],
   "source": [
    "#Escrever um programa que leia o nome de um vendedor, o seu salário fixo e o \n",
    "#total de vendas efetuadas por ele no mês (em dinheiro). Sabendo que este vendedor ganha \n",
    "#15% de comissão sobre suas vendas efetuadas, informar o seu nome, o salário fixo e salário \n",
    "#no final do mês\n",
    "\n",
    "comissao = 0.15\n",
    "nome = input(\"Digite seu nome: \")\n",
    "salarioFixo = float(input(\"digite seu salario: \"))\n",
    "totalDeVendas = float(input(\"digite total de vendas: \"))\n",
    "\n",
    "salarioFinal = salarioFixo + comissao * totalDeVendas\n",
    "\n",
    "print(salarioFinal)"
   ]
  },
  {
   "cell_type": "code",
   "execution_count": 16,
   "id": "410cc1d0",
   "metadata": {},
   "outputs": [
    {
     "name": "stdout",
     "output_type": "stream",
     "text": [
      "digite seu nome: poliane\n",
      "digite a primeira nota: 9\n",
      "digite a segunda nota: 7\n",
      "digite a terceira nota: 5\n",
      "7.0\n"
     ]
    }
   ],
   "source": [
    "#Escrever um programa que leia o nome de um aluno e as notas das três provas\n",
    "#que ele obteve no semestre. No final informar o nome do aluno e a sua média (aritmética)\n",
    "\n",
    "nome = input(\"digite seu nome: \")\n",
    "primeiraNota = float(input(\"digite a primeira nota: \"))\n",
    "segundaNota = float(input(\"digite a segunda nota: \"))\n",
    "terceiraNota = float(input(\"digite a terceira nota: \"))\n",
    "\n",
    "media = (primeiraNota + segundaNota + terceiraNota) / 3\n",
    "\n",
    "print(media)"
   ]
  },
  {
   "cell_type": "code",
   "execution_count": 17,
   "id": "30f2cfda",
   "metadata": {},
   "outputs": [
    {
     "name": "stdout",
     "output_type": "stream",
     "text": [
      "8\n",
      "5\n"
     ]
    }
   ],
   "source": [
    "#Ler dois valores para as variáveis A e B, e efetuar as trocas dos valores de\n",
    "#forma que a variável A passe a possuir o valor da variável B e a variável B passe a possuir o\n",
    "#valor da variável A. Apresentar os valores\n",
    "\n",
    "a = 5\n",
    "b = 8\n",
    "d = 0\n",
    "\n",
    "d = a\n",
    "a = b\n",
    "b = d\n",
    "\n",
    "print(a)\n",
    "print(b)"
   ]
  },
  {
   "cell_type": "code",
   "execution_count": 7,
   "id": "036aca35",
   "metadata": {},
   "outputs": [
    {
     "name": "stdout",
     "output_type": "stream",
     "text": [
      "Digite a temperatura em °C: 8\n",
      "46.4 °F\n"
     ]
    }
   ],
   "source": [
    "#Ler uma temperatura em graus Celsius e apresentá-la convertida em graus\n",
    "#Fahrenheit. A fórmula de conversão é: F=(9*C+160) / 5, sendo F a temperatura em Fahrenheit\n",
    "#e C a temperatura em Celsius\n",
    "    \n",
    "c = float(input(\"Digite a temperatura em °C: \"))\n",
    "f = (9*c+160) / 5\n",
    "print (f,\"°F\")\n"
   ]
  },
  {
   "cell_type": "code",
   "execution_count": 19,
   "id": "2e8a3415",
   "metadata": {},
   "outputs": [
    {
     "name": "stdout",
     "output_type": "stream",
     "text": [
      "digite a quantidade em dolar: 4.70\n",
      "22.090000000000003  R$ \n"
     ]
    }
   ],
   "source": [
    "#Elaborar um programa que efetue a apresentação do valor da conversão em\n",
    "#real (R$) de um valor lido em dólar (US$). O algoritmo deverá solicitar o valor da cotação do\n",
    "#dólar e a quantidade de dólares disponíveis com o usuário\n",
    "\n",
    "\n",
    "dolar = float(input(\"digite a quantidade em dolar: \"))\n",
    "\n",
    "real = 4.70 * dolar\n",
    "\n",
    "print(real,\" R$ \")"
   ]
  },
  {
   "cell_type": "code",
   "execution_count": 36,
   "id": "9eac576d",
   "metadata": {},
   "outputs": [
    {
     "name": "stdout",
     "output_type": "stream",
     "text": [
      "valor depositado 50\n",
      "valorFinal 85.0\n"
     ]
    }
   ],
   "source": [
    "#Faça um programa que receba um valor que foi depositado e exiba o valor\n",
    "#com rendimento após um mês. Considere fixo o juro da poupança em 0,70% a. m\n",
    "jurosPoupanca = 0.70\n",
    "valorDepositado = float(input(\"valor depositado \"))\n",
    "valorFinal = valorDepositado + (valorDepositado * jurosPoupanca)\n",
    "print(\"valorFinal\", valorFinal)\n",
    "\n"
   ]
  },
  {
   "cell_type": "code",
   "execution_count": null,
   "id": "34fbe694",
   "metadata": {},
   "outputs": [],
   "source": [
    "#A Loja Mamão com Açúcar está vendendo seus produtos em 5 (cinco)\n",
    "#prestações sem juros. Faça um Programa que receba um valor de uma compra e mostre o\n",
    "#valor das prestações\n",
    "\n"
   ]
  },
  {
   "cell_type": "code",
   "execution_count": 1,
   "id": "d49c6e2e",
   "metadata": {},
   "outputs": [
    {
     "name": "stdout",
     "output_type": "stream",
     "text": [
      "informe o valor da compra125\n",
      "valor da prestacao  25.0\n"
     ]
    }
   ],
   "source": [
    "prestacoes = 5\n",
    "compra = float(input(\"informe o valor da compra \"))\n",
    "valorPrestacoes = compra / prestacoes\n",
    "print(\"valor da prestacao \", valorPrestacoes)"
   ]
  },
  {
   "cell_type": "code",
   "execution_count": null,
   "id": "eef3f9b9",
   "metadata": {},
   "outputs": [],
   "source": []
  }
 ],
 "metadata": {
  "kernelspec": {
   "display_name": "Python 3 (ipykernel)",
   "language": "python",
   "name": "python3"
  },
  "language_info": {
   "codemirror_mode": {
    "name": "ipython",
    "version": 3
   },
   "file_extension": ".py",
   "mimetype": "text/x-python",
   "name": "python",
   "nbconvert_exporter": "python",
   "pygments_lexer": "ipython3",
   "version": "3.9.7"
  }
 },
 "nbformat": 4,
 "nbformat_minor": 5
}
