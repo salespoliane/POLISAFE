{
 "cells": [
  {
   "cell_type": "code",
   "execution_count": 6,
   "id": "2640d637",
   "metadata": {},
   "outputs": [
    {
     "name": "stdout",
     "output_type": "stream",
     "text": [
      "Parabéns, batemos a meta\n"
     ]
    }
   ],
   "source": [
    "meta = 50000\n",
    "qte_vendida = 85300\n",
    "if qte_vendida > meta: \n",
    "    print(\"Parabéns, atingimos a meta\")\n",
    "else:\n",
    "    print(\"Infelizmente, não atingimos a meta\")\n",
    "    \n"
   ]
  },
  {
   "cell_type": "code",
   "execution_count": null,
   "id": "07c5c1ac",
   "metadata": {},
   "outputs": [],
   "source": []
  }
 ],
 "metadata": {
  "kernelspec": {
   "display_name": "Python 3 (ipykernel)",
   "language": "python",
   "name": "python3"
  },
  "language_info": {
   "codemirror_mode": {
    "name": "ipython",
    "version": 3
   },
   "file_extension": ".py",
   "mimetype": "text/x-python",
   "name": "python",
   "nbconvert_exporter": "python",
   "pygments_lexer": "ipython3",
   "version": "3.9.7"
  }
 },
 "nbformat": 4,
 "nbformat_minor": 5
}
