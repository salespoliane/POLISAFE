{
 "cells": [
  {
   "cell_type": "markdown",
   "id": "d1c370a4",
   "metadata": {},
   "source": [
    "Exercícios do Módulo 1 - Operações, Variáveis e Input\n",
    "\n",
    "Parte 1 - Operações e Variáveis\n",
    "Crie um programa que imprima (print) os principais indicadores da loja Hashtag&Drink no último ano. Obs: faça tudo usando variáveis.\n",
    "Valores do último ano:\n",
    "Quantidade de Vendas de Coca = 150\n",
    "Quantidade de Vendas de Pepsi = 130\n",
    "Preço Unitário da Coca = 1,50\n",
    "Preço Unitário da Pepsi = 1,50\n",
    "Custo da Loja: 2.500,00\n",
    "\n",
    "In [ ]:"
   ]
  },
  {
   "cell_type": "code",
   "execution_count": 7,
   "id": "a8d8cc11",
   "metadata": {},
   "outputs": [
    {
     "name": "stdout",
     "output_type": "stream",
     "text": [
      "faturamento pepsi:  195.0\n",
      "faturamento coca:  225.0\n",
      "lucro da loja:  -2080.0\n",
      "margem:  -4.9523809523809526\n"
     ]
    }
   ],
   "source": [
    "quantidadeVendasCoca = 150\n",
    "quantidadeVendasPepsi = 130\n",
    "precoUniCoca = 1.50\n",
    "precoUniPepsi = 1.50\n",
    "custoLoja = 2500.0\n",
    "\n",
    "fatPepsi = quantidadeVendasPepsi * precoUniPepsi\n",
    "print (\"faturamento pepsi: \", fatPepsi)\n",
    "\n",
    "\n",
    "fatCoca = quantidadeVendasCoca * precoUniCoca\n",
    "print (\"faturamento coca: \", fatCoca)\n",
    "\n",
    "lucroLoja = (fatPepsi + fatCoca) - custoLoja\n",
    "print (\"lucro da loja: \", lucroLoja)\n",
    "\n",
    "margem = lucroLoja / (fatPepsi + fatCoca)\n",
    "print (\"margem: \" , margem)"
   ]
  },
  {
   "cell_type": "markdown",
   "id": "b3b4c7d5",
   "metadata": {},
   "source": [
    "Parte 2 - Inputs e Strings\n",
    "\n",
    "A maioria das empresas trabalham com um Código para cada produto que possuem. A Hashtag&Drink, por exemplo, tem mais de 1.000 produtos e possui um código para cada produto. Ex: Coca -> Código: BEB1300543\n",
    "Pepsi -> Código: BEB1300545\n",
    "Vinho Primitivo Lucarelli -> Código: BAC1546001\n",
    "Vodka Smirnoff -> Código: BAC17675002\n",
    "\n",
    "Repare que todas as bebidas não alcóolicas tem o início do Código \"BEB\" e todas as bebidas alcóolicas tem o início do código \"BAC\".\n",
    "Crie um programa de consulta de bebida que, dado um código qualquer, identifique se a bebida é alcóolica. O programa deve responder True para bebidas alcóolicas e False para bebidas não alcóolicas. Para inserir um código, use um input.\n",
    "Dica: Lembre-se do comando in para strings e sempre insira os códigos com letra maiúscula para facilitar.\n",
    "    \n",
    "    \n",
    "    \n",
    "    \n",
    "    \n",
    "    \n",
    "    \n",
    "    \n",
    "    \n",
    "    \n",
    "    \n",
    "    "
   ]
  },
  {
   "cell_type": "code",
   "execution_count": null,
   "id": "c0694a5f",
   "metadata": {},
   "outputs": [],
   "source": [
    "codigo = str(input(\"digite o codigo da bebida: \"))\n",
    "COD_BEB_NALC = \"BEB\"\n",
    "COD_BEB_ALC = \"BAC\"\n",
    "\n",
    "if"
   ]
  }
 ],
 "metadata": {
  "kernelspec": {
   "display_name": "Python 3 (ipykernel)",
   "language": "python",
   "name": "python3"
  },
  "language_info": {
   "codemirror_mode": {
    "name": "ipython",
    "version": 3
   },
   "file_extension": ".py",
   "mimetype": "text/x-python",
   "name": "python",
   "nbconvert_exporter": "python",
   "pygments_lexer": "ipython3",
   "version": "3.9.7"
  }
 },
 "nbformat": 4,
 "nbformat_minor": 5
}
